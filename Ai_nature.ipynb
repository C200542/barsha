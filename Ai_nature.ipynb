{
  "nbformat": 4,
  "nbformat_minor": 0,
  "metadata": {
    "colab": {
      "name": "Ai nature",
      "provenance": [],
      "collapsed_sections": [],
      "mount_file_id": "1w81biVJPRFhrelx66VpT1UlO-PQhO2m-",
      "authorship_tag": "ABX9TyP080SkdPla5dpBTb6HDMxB",
      "include_colab_link": true
    },
    "kernelspec": {
      "name": "python3",
      "display_name": "Python 3"
    },
    "language_info": {
      "name": "python"
    }
  },
  "cells": [
    {
      "cell_type": "markdown",
      "metadata": {
        "id": "view-in-github",
        "colab_type": "text"
      },
      "source": [
        "<a href=\"https://colab.research.google.com/github/C200542/barsha/blob/main/Ai_nature.ipynb\" target=\"_parent\"><img src=\"https://colab.research.google.com/assets/colab-badge.svg\" alt=\"Open In Colab\"/></a>"
      ]
    },
    {
      "cell_type": "code",
      "metadata": {
        "id": "gVQZCbcP3wOh"
      },
      "source": [
        "!pip install icrawler\n",
        "\n",
        "from icrawler.builtin import BingImageCrawler\n",
        "\n",
        "crawler = BingImageCrawler(storage={'root_dir': 'nature'})\n",
        "crawler.crawl(keyword='nature', max_num = 10)\n",
        "\n",
        "from IPython.display import Image, display_jpeg\n",
        "\n",
        "display_jpeg(Image('./nature/000001.jpg'))"
      ],
      "execution_count": null,
      "outputs": []
    },
    {
      "cell_type": "code",
      "metadata": {
        "id": "bmaS7wHT4Ekj"
      },
      "source": [
        "# モジュールの読み込み\n",
        "import matplotlib.pyplot as plt\n",
        "\n",
        "# サンプルデータ生成のためにnumpyも読み込む\n",
        "import numpy as np\n",
        "# -3.14から3.14まで1刻みでデータ（sin関数）を生成する\n",
        "x = np.arange(-3.14, 3.14, 0.2)\n",
        "y = np.sin(x)\n",
        "# 図の描画\n",
        "# 第一引数がx軸で、第二引数がy軸\n",
        "plt.plot(x, y)\n",
        "plt.show()"
      ],
      "execution_count": null,
      "outputs": []
    }
  ]
}